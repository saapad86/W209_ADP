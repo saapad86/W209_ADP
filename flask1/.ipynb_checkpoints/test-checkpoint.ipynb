{
 "cells": [
  {
   "cell_type": "code",
   "execution_count": 3,
   "metadata": {
    "collapsed": false
   },
   "outputs": [],
   "source": [
    "from flask import Flask,render_template\n",
    "from flask import request\n",
    "import pandas as pd\n",
    "import numpy as np\n",
    "import matplotlib as plt\n",
    "from pandas.compat import StringIO"
   ]
  },
  {
   "cell_type": "code",
   "execution_count": 55,
   "metadata": {
    "collapsed": true
   },
   "outputs": [],
   "source": [
    "df0 = pd.read_csv('static/data/ADP1.csv')"
   ]
  },
  {
   "cell_type": "code",
   "execution_count": 80,
   "metadata": {
    "collapsed": false
   },
   "outputs": [],
   "source": [
    "df1 = df0[df0['hc-key'].isin(['us-us','us-cncr','us-cner','us-csor','us-cwer'])]"
   ]
  },
  {
   "cell_type": "code",
   "execution_count": 81,
   "metadata": {
    "collapsed": false
   },
   "outputs": [],
   "source": [
    "midwest = df1[df1['hc-key']=='us-cner'][['delta_total']]"
   ]
  },
  {
   "cell_type": "code",
   "execution_count": 86,
   "metadata": {
    "collapsed": false
   },
   "outputs": [],
   "source": [
    "df2 = df1[df1['hc-key']=='us-us'][['month']]\n",
    "df2.set_index(['month'],inplace=True)"
   ]
  },
  {
   "cell_type": "code",
   "execution_count": 94,
   "metadata": {
    "collapsed": false
   },
   "outputs": [],
   "source": [
    "df2 = df1[['month','jobs_total']]"
   ]
  },
  {
   "cell_type": "code",
   "execution_count": 100,
   "metadata": {
    "collapsed": false
   },
   "outputs": [
    {
     "data": {
      "text/plain": [
       "4080      us-us\n",
       "4081      us-us\n",
       "4082      us-us\n",
       "4083      us-us\n",
       "4084      us-us\n",
       "4085      us-us\n",
       "4086      us-us\n",
       "4087      us-us\n",
       "4088      us-us\n",
       "4089      us-us\n",
       "4090      us-us\n",
       "4091      us-us\n",
       "4092      us-us\n",
       "4093      us-us\n",
       "4094      us-us\n",
       "4095      us-us\n",
       "4096      us-us\n",
       "4097      us-us\n",
       "4098      us-us\n",
       "4099      us-us\n",
       "4100      us-us\n",
       "4101      us-us\n",
       "4102      us-us\n",
       "4103      us-us\n",
       "4104      us-us\n",
       "4105      us-us\n",
       "4106      us-us\n",
       "4107      us-us\n",
       "4108      us-us\n",
       "4109      us-us\n",
       "         ...   \n",
       "5954    us-cwer\n",
       "5955    us-cwer\n",
       "5956    us-cwer\n",
       "5957    us-cwer\n",
       "5958    us-cwer\n",
       "5959    us-cwer\n",
       "5960    us-cwer\n",
       "5961    us-cwer\n",
       "5962    us-cwer\n",
       "5963    us-cwer\n",
       "5964    us-cwer\n",
       "5965    us-cwer\n",
       "5966    us-cwer\n",
       "5967    us-cwer\n",
       "5968    us-cwer\n",
       "5969    us-cwer\n",
       "5970    us-cwer\n",
       "5971    us-cwer\n",
       "5972    us-cwer\n",
       "5973    us-cwer\n",
       "5974    us-cwer\n",
       "5975    us-cwer\n",
       "5976    us-cwer\n",
       "5977    us-cwer\n",
       "5978    us-cwer\n",
       "5979    us-cwer\n",
       "5980    us-cwer\n",
       "5981    us-cwer\n",
       "5982    us-cwer\n",
       "5983    us-cwer\n",
       "Name: hc-key, dtype: object"
      ]
     },
     "execution_count": 100,
     "metadata": {},
     "output_type": "execute_result"
    }
   ],
   "source": [
    "df1['hc-key']"
   ]
  },
  {
   "cell_type": "code",
   "execution_count": null,
   "metadata": {
    "collapsed": true
   },
   "outputs": [],
   "source": []
  }
 ],
 "metadata": {
  "kernelspec": {
   "display_name": "Python 2",
   "language": "python",
   "name": "python2"
  },
  "language_info": {
   "codemirror_mode": {
    "name": "ipython",
    "version": 2
   },
   "file_extension": ".py",
   "mimetype": "text/x-python",
   "name": "python",
   "nbconvert_exporter": "python",
   "pygments_lexer": "ipython2",
   "version": "2.7.11"
  }
 },
 "nbformat": 4,
 "nbformat_minor": 0
}
