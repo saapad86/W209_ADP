{
 "cells": [
  {
   "cell_type": "code",
   "execution_count": 1,
   "metadata": {
    "collapsed": false
   },
   "outputs": [
    {
     "name": "stderr",
     "output_type": "stream",
     "text": [
      "//anaconda/lib/python3.4/site-packages/IPython/html.py:14: ShimWarning: The `IPython.html` package has been deprecated. You should import from `notebook` instead. `IPython.html.widgets` has moved to `ipywidgets`.\n",
      "  \"`IPython.html.widgets` has moved to `ipywidgets`.\", ShimWarning)\n"
     ]
    }
   ],
   "source": [
    "import pandas as pd\n",
    "import numpy as np\n",
    "import matplotlib as plt\n",
    "import seaborn as sns"
   ]
  },
  {
   "cell_type": "code",
   "execution_count": 25,
   "metadata": {
    "collapsed": false
   },
   "outputs": [],
   "source": [
    "xls = pd.ExcelFile('ADP_RER_History_2016_04.xlsx')"
   ]
  },
  {
   "cell_type": "code",
   "execution_count": 34,
   "metadata": {
    "collapsed": false
   },
   "outputs": [],
   "source": [
    "df1 = pd.DataFrame()\n",
    "for sheet_num in range(len(xls.sheet_names)):\n",
    "    sheet_data = xls.parse(sheet_num,skiprows=[0,1,2],header=0,parse_cols=22)[:136]\n",
    "    sheet_data['state'] = xls.sheet_names[sheet_num]\n",
    "    df1 = df1.append(sheet_data)"
   ]
  },
  {
   "cell_type": "code",
   "execution_count": 35,
   "metadata": {
    "collapsed": false
   },
   "outputs": [],
   "source": [
    "df1.columns = ['month','jobs_total','jobs_goods','jobs_service','pch_total','pch_goods','pch_service','delta_total','delta_goods','delta_service','delta_service','jobs_resource','jobs_manufacturing','jobs_trade','jobs_professional','pch_resource','pch_manufacturing','pch_trade','pch_professional','delta_resource','delta_manufacturing','delta_trade','delta_professional','state']"
   ]
  },
  {
   "cell_type": "code",
   "execution_count": 68,
   "metadata": {
    "collapsed": false
   },
   "outputs": [],
   "source": [
    "df1.sort('state')\n",
    "df1['hc-key'] = df1['state'].apply(lambda x: \"us-\"+x.lower())\n",
    "df1['jobs_total'] = df1['jobs_total'].apply(lambda x: np.round(x))\n",
    "df1.to_csv('ADP1.csv')"
   ]
  },
  {
   "cell_type": "code",
   "execution_count": 66,
   "metadata": {
    "collapsed": false
   },
   "outputs": [],
   "source": [
    "df2=df1[df1['month']=='2016M04'][['hc-key','jobs_total']]\n",
    "df2 = df2.set_index('hc-key')"
   ]
  },
  {
   "cell_type": "code",
   "execution_count": 67,
   "metadata": {
    "collapsed": false
   },
   "outputs": [
    {
     "data": {
      "text/plain": [
       "'{\"jobs_total\":{\"us-al\":1586.0,\"us-az\":2286.0,\"us-ca\":13822.0,\"us-co\":2170.0,\"us-ct\":1456.0,\"us-dc\":542.0,\"us-fl\":7166.0,\"us-ga\":3647.0,\"us-id\":569.0,\"us-il\":5188.0,\"us-in\":2650.0,\"us-ky\":1583.0,\"us-ma\":3082.0,\"us-md\":2181.0,\"us-mi\":3697.0,\"us-mn\":2474.0,\"us-nc\":3583.0,\"us-nj\":3437.0,\"us-nv\":1136.0,\"us-ny\":7932.0,\"us-oh\":4711.0,\"us-or\":1508.0,\"us-pa\":5190.0,\"us-sc\":1678.0,\"us-tn\":2502.0,\"us-tx\":10143.0,\"us-ut\":1176.0,\"us-va\":3185.0,\"us-wa\":2663.0,\"us-wi\":2519.0,\"us-us\":121639.0,\"us-cenc\":18765.0,\"us-cesc\":6566.0,\"us-cmac\":16559.0,\"us-cmtn\":8576.0,\"us-cnec\":6323.0,\"us-cpac\":18776.0,\"us-csac\":23003.0,\"us-cwnc\":8937.0,\"us-cwsc\":14135.0,\"us-cncr\":27702.0,\"us-cner\":22882.0,\"us-csor\":43704.0,\"us-cwer\":27351.0}}'"
      ]
     },
     "execution_count": 67,
     "metadata": {},
     "output_type": "execute_result"
    }
   ],
   "source": [
    "df2.to_json()"
   ]
  },
  {
   "cell_type": "code",
   "execution_count": null,
   "metadata": {
    "collapsed": true
   },
   "outputs": [],
   "source": []
  }
 ],
 "metadata": {
  "kernelspec": {
   "display_name": "Python 3",
   "language": "python",
   "name": "python3"
  },
  "language_info": {
   "codemirror_mode": {
    "name": "ipython",
    "version": 3
   },
   "file_extension": ".py",
   "mimetype": "text/x-python",
   "name": "python",
   "nbconvert_exporter": "python",
   "pygments_lexer": "ipython3",
   "version": "3.4.4"
  }
 },
 "nbformat": 4,
 "nbformat_minor": 0
}
